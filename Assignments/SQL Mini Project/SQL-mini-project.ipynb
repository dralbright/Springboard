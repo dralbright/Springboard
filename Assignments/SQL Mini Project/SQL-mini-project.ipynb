{
 "cells": [
  {
   "cell_type": "code",
   "execution_count": 37,
   "id": "aa2b91bb",
   "metadata": {},
   "outputs": [],
   "source": [
    "import sqlalchemy as db\n",
    "import pandas as pd"
   ]
  },
  {
   "cell_type": "code",
   "execution_count": 16,
   "id": "cc19e3a7",
   "metadata": {},
   "outputs": [],
   "source": [
    "engine = create_engine('sqlite:///sqlite_db_pythonsqlite.db')"
   ]
  },
  {
   "cell_type": "code",
   "execution_count": 174,
   "id": "6061b036",
   "metadata": {
    "scrolled": true
   },
   "outputs": [
    {
     "name": "stdout",
     "output_type": "stream",
     "text": [
      "           Facility Month  Member Usage\n",
      "0   Badminton Court    07           165\n",
      "1   Badminton Court    08           414\n",
      "2   Badminton Court    09           507\n",
      "3    Massage Room 1    07           166\n",
      "4    Massage Room 1    08           316\n",
      "5    Massage Room 1    09           402\n",
      "6    Massage Room 2    07             8\n",
      "7    Massage Room 2    08            18\n",
      "8    Massage Room 2    09            28\n",
      "9        Pool Table    07           110\n",
      "10       Pool Table    08           303\n",
      "11       Pool Table    09           443\n",
      "12    Snooker Table    07           140\n",
      "13    Snooker Table    08           316\n",
      "14    Snooker Table    09           404\n",
      "15     Squash Court    07            50\n",
      "16     Squash Court    08           184\n",
      "17     Squash Court    09           184\n",
      "18     Table Tennis    07            98\n",
      "19     Table Tennis    08           296\n",
      "20     Table Tennis    09           400\n",
      "21   Tennis Court 1    07           201\n",
      "22   Tennis Court 1    08           339\n",
      "23   Tennis Court 1    09           417\n",
      "24   Tennis Court 2    07           123\n",
      "25   Tennis Court 2    08           345\n",
      "26   Tennis Court 2    09           414\n"
     ]
    }
   ],
   "source": [
    "with engine.connect() as con:\n",
    "    print(pd.read_sql('SELECT f.name AS Facility, STRFTIME(\"%m\", b.starttime) AS Month, \\\n",
    "        SUM(b.slots) AS \"Member Usage\" \\\n",
    "        FROM Bookings as b \\\n",
    "        LEFT JOIN Facilities as f \\\n",
    "        USING(facid) \\\n",
    "        WHERE memid <>0 \\\n",
    "        GROUP BY f.name, Month \\\n",
    "        ORDER BY Facility, Month', con))"
   ]
  },
  {
   "cell_type": "code",
   "execution_count": 98,
   "id": "5c9bb390",
   "metadata": {},
   "outputs": [
    {
     "name": "stdout",
     "output_type": "stream",
     "text": [
      "            Name  Revenue\n",
      "0   Table Tennis      180\n",
      "1  Snooker Table      240\n",
      "2     Pool Table      270\n"
     ]
    }
   ],
   "source": [
    "with engine.connect() as con:\n",
    "    print(pd.read_sql('SELECT rev.Name, rev.Revenue \\\n",
    "    FROM (SELECT f.name as Name, SUM(CASE WHEN b.memid = 0 THEN b.slots * f.guestcost \\\n",
    "    ELSE b.slots * f.membercost END) AS Revenue FROM Bookings AS b INNER JOIN Facilities AS f USING(facid) \\\n",
    "    GROUP BY f.name ORDER BY Revenue) AS rev \\\n",
    "    WHERE Revenue < 1000', con))"
   ]
  },
  {
   "cell_type": "code",
   "execution_count": 111,
   "id": "8142879f",
   "metadata": {},
   "outputs": [
    {
     "name": "stdout",
     "output_type": "stream",
     "text": [
      "   memid   surname firstname                             address  zipcode  \\\n",
      "0      0     GUEST     GUEST                               GUEST        0   \n",
      "1      1     Smith    Darren          8 Bloomsbury Close, Boston     4321   \n",
      "2      2     Smith     Tracy        8 Bloomsbury Close, New York     4321   \n",
      "3      3    Rownam       Tim              23 Highway Way, Boston    23423   \n",
      "4      4  Joplette    Janice          20 Crossing Road, New York      234   \n",
      "5      5   Butters    Gerald      1065 Huntingdon Avenue, Boston    56754   \n",
      "6      6     Tracy    Burton             3 Tunisia Drive, Boston    45678   \n",
      "7      7      Dare     Nancy         6 Hunting Lodge Way, Boston    10383   \n",
      "8      8    Boothe       Tim  3 Bloomsbury Close, Reading, 00234      234   \n",
      "9      9  Stibbons    Ponder           5 Dragons Way, Winchester    87630   \n",
      "\n",
      "        telephone recommendedby             joindate  \n",
      "0  (000) 000-0000                2012-07-01 00:00:00  \n",
      "1    555-555-5555                2012-07-02 12:02:05  \n",
      "2    555-555-5555                2012-07-02 12:08:23  \n",
      "3  (844) 693-0723                2012-07-03 09:32:15  \n",
      "4  (833) 942-4710             1  2012-07-03 10:25:05  \n",
      "5  (844) 078-4130             1  2012-07-09 10:44:09  \n",
      "6  (822) 354-9973                2012-07-15 08:52:55  \n",
      "7  (833) 776-4001             4  2012-07-25 08:59:12  \n",
      "8  (811) 433-2547             3  2012-07-25 16:02:35  \n",
      "9  (833) 160-3900             6  2012-07-25 17:09:05  \n"
     ]
    }
   ],
   "source": [
    "with engine.connect() as con:\n",
    "    print(pd.read_sql('SELECT * \\\n",
    "        FROM Members as m1 \\\n",
    "        LIMIT 10', con))"
   ]
  },
  {
   "cell_type": "code",
   "execution_count": 119,
   "id": "29c88046",
   "metadata": {},
   "outputs": [
    {
     "name": "stdout",
     "output_type": "stream",
     "text": [
      "              surname  firstname recommendedby   surname  firstname\n",
      "0               Bader   Florence             9  Stibbons     Ponder\n",
      "1               Baker       Anne             9  Stibbons     Ponder\n",
      "2               Baker    Timothy            13   Farrell     Jemima\n",
      "3              Boothe        Tim             3    Rownam        Tim\n",
      "4             Butters     Gerald             1     Smith     Darren\n",
      "5              Coplin       Joan            16     Baker    Timothy\n",
      "6             Crumpet      Erica             2     Smith      Tracy\n",
      "7                Dare      Nancy             4  Joplette     Janice\n",
      "8             Farrell      David                    None       None\n",
      "9             Farrell     Jemima                    None       None\n",
      "10              GUEST      GUEST                    None       None\n",
      "11            Genting    Matthew             5   Butters     Gerald\n",
      "12               Hunt       John            30   Purview  Millicent\n",
      "13              Jones      David             4  Joplette     Janice\n",
      "14              Jones    Douglas            11     Jones      David\n",
      "15           Joplette     Janice             1     Smith     Darren\n",
      "16          Mackenzie       Anna             1     Smith     Darren\n",
      "17               Owen    Charles             1     Smith     Darren\n",
      "18             Pinker      David            13   Farrell     Jemima\n",
      "19            Purview  Millicent             2     Smith      Tracy\n",
      "20             Rownam        Tim                    None       None\n",
      "21             Rumney  Henrietta            20   Genting    Matthew\n",
      "22             Sarwin  Ramnaresh            15     Bader   Florence\n",
      "23              Smith     Darren                    None       None\n",
      "24              Smith     Darren                    None       None\n",
      "25              Smith       Jack             1     Smith     Darren\n",
      "26              Smith      Tracy                    None       None\n",
      "27           Stibbons     Ponder             6     Tracy     Burton\n",
      "28              Tracy     Burton                    None       None\n",
      "29         Tupperware   Hyacinth                    None       None\n",
      "30  Worthington-Smyth      Henry             2     Smith      Tracy\n"
     ]
    }
   ],
   "source": [
    "with engine.connect() as con:\n",
    "    print(pd.read_sql('SELECT m1.surname, m1.firstname, m1.recommendedby, \\\n",
    "        m2.surname, m2.firstname\\\n",
    "        FROM Members as m1 \\\n",
    "        LEFT JOIN Members as m2 \\\n",
    "        ON m1.recommendedby = m2.memid \\\n",
    "        ORDER BY m1.surname, m1.firstname', con))"
   ]
  },
  {
   "cell_type": "code",
   "execution_count": 149,
   "id": "66df0679",
   "metadata": {},
   "outputs": [
    {
     "name": "stdout",
     "output_type": "stream",
     "text": [
      "              name  Total\n",
      "0  Badminton Court   1086\n",
      "1   Massage Room 1    884\n",
      "2   Massage Room 2     54\n",
      "3       Pool Table    856\n",
      "4    Snooker Table    860\n",
      "5     Squash Court    418\n",
      "6     Table Tennis    794\n",
      "7   Tennis Court 1    957\n",
      "8   Tennis Court 2    882\n"
     ]
    }
   ],
   "source": [
    "with engine.connect() as con:\n",
    "    print(pd.read_sql('SELECT f.name, SUM(b.slots) as Total \\\n",
    "        FROM Bookings as b \\\n",
    "        LEFT JOIN Facilities as f USING(facid) \\\n",
    "        LEFT JOIN Members as m USING(memid) \\\n",
    "        WHERE memid <> 0 \\\n",
    "        GROUP BY name \\\n",
    "        ORDER BY name \\\n",
    "        LIMIT 25', con))"
   ]
  },
  {
   "cell_type": "code",
   "execution_count": 158,
   "id": "dc3ade72",
   "metadata": {},
   "outputs": [
    {
     "name": "stdout",
     "output_type": "stream",
     "text": [
      "           Facility Month  Member Usage\n",
      "0   Badminton Court    07           165\n",
      "1   Badminton Court    08           414\n",
      "2   Badminton Court    09           507\n",
      "3    Massage Room 1    07           166\n",
      "4    Massage Room 1    08           316\n",
      "5    Massage Room 1    09           402\n",
      "6    Massage Room 2    07             8\n",
      "7    Massage Room 2    08            18\n",
      "8    Massage Room 2    09            28\n",
      "9        Pool Table    07           110\n",
      "10       Pool Table    08           303\n",
      "11       Pool Table    09           443\n",
      "12    Snooker Table    07           140\n",
      "13    Snooker Table    08           316\n",
      "14    Snooker Table    09           404\n",
      "15     Squash Court    07            50\n",
      "16     Squash Court    08           184\n",
      "17     Squash Court    09           184\n",
      "18     Table Tennis    07            98\n",
      "19     Table Tennis    08           296\n",
      "20     Table Tennis    09           400\n",
      "21   Tennis Court 1    07           201\n",
      "22   Tennis Court 1    08           339\n",
      "23   Tennis Court 1    09           417\n",
      "24   Tennis Court 2    07           123\n",
      "25   Tennis Court 2    08           345\n",
      "26   Tennis Court 2    09           414\n"
     ]
    }
   ],
   "source": [
    "with engine.connect() as con:\n",
    "    print(pd.read_sql('SELECT f.name AS Facility, STRFTIME(\"%m\", b.starttime) AS Month, SUM(b.slots) AS \"Member Usage\" \\\n",
    "        FROM Bookings as b \\\n",
    "        LEFT JOIN Facilities as f \\\n",
    "        USING(facid) \\\n",
    "        WHERE memid <>0 \\\n",
    "        GROUP BY f.name, Month \\\n",
    "        ORDER BY Facility, Month', con))"
   ]
  }
 ],
 "metadata": {
  "kernelspec": {
   "display_name": "Python 3 (ipykernel)",
   "language": "python",
   "name": "python3"
  },
  "language_info": {
   "codemirror_mode": {
    "name": "ipython",
    "version": 3
   },
   "file_extension": ".py",
   "mimetype": "text/x-python",
   "name": "python",
   "nbconvert_exporter": "python",
   "pygments_lexer": "ipython3",
   "version": "3.10.11"
  }
 },
 "nbformat": 4,
 "nbformat_minor": 5
}
